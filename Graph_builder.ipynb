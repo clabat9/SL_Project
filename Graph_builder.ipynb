{
 "cells": [
  {
   "cell_type": "code",
   "execution_count": 34,
   "metadata": {},
   "outputs": [],
   "source": [
    "import matplotlib.pyplot as  plt\n",
    "from sklearn.datasets import make_moons, make_blobs\n",
    "import pandas as pd\n",
    "from sklearn.neighbors import NearestNeighbors\n",
    "import numpy as np"
   ]
  },
  {
   "cell_type": "code",
   "execution_count": 35,
   "metadata": {},
   "outputs": [],
   "source": [
    "# Reads the training set\n",
    "\n",
    "df = pd.read_csv(r\"D:\\Claudio\\Uni\\M 1° anno Sapienza\\SL\\Project\\train.csv\", engine = \"python\").drop(columns=\"Unnamed: 0\")\n"
   ]
  },
  {
   "cell_type": "code",
   "execution_count": 36,
   "metadata": {},
   "outputs": [],
   "source": [
    "# Build up the graph using the Parseval Identity (Minkowsky distance with p = 2)\n",
    "\n",
    "nbrs = NearestNeighbors(n_neighbors=10, algorithm='ball_tree').fit(df.iloc[:,:-1])\n",
    "adj = nbrs.kneighbors_graph(df.iloc[:,:-1],mode='distance').toarray()\n"
   ]
  },
  {
   "cell_type": "code",
   "execution_count": 37,
   "metadata": {},
   "outputs": [],
   "source": [
    "# Save all to work with Matlab\n",
    "\n",
    "df.iloc[:,:-1].to_csv(r\"D:\\Claudio\\Uni\\M 1° anno Sapienza\\SL\\Project\\coeff.csv\", index=False, header=True)\n",
    "df.iloc[:,-1].to_csv(r\"D:\\Claudio\\Uni\\M 1° anno Sapienza\\SL\\Project\\clusters.csv\", index=False, header=True)\n",
    "pd.DataFrame(adj).to_csv(r\"D:\\Claudio\\Uni\\M 1° anno Sapienza\\SL\\Project\\graph.csv\", index=False, header=False)"
   ]
  },
  {
   "cell_type": "code",
   "execution_count": null,
   "metadata": {},
   "outputs": [],
   "source": []
  }
 ],
 "metadata": {
  "kernelspec": {
   "display_name": "Python 3",
   "language": "python",
   "name": "python3"
  },
  "language_info": {
   "codemirror_mode": {
    "name": "ipython",
    "version": 3
   },
   "file_extension": ".py",
   "mimetype": "text/x-python",
   "name": "python",
   "nbconvert_exporter": "python",
   "pygments_lexer": "ipython3",
   "version": "3.6.5"
  }
 },
 "nbformat": 4,
 "nbformat_minor": 2
}
